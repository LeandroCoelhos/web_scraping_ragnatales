{
 "cells": [
  {
   "cell_type": "markdown",
   "metadata": {},
   "source": [
    "https://www.youtube.com/watch?v=42sTntMEn6o&list=PLg3ZPsW_sghSkRacynznQeEs-vminyTQk&index=2"
   ]
  },
  {
   "cell_type": "code",
   "execution_count": 8,
   "metadata": {},
   "outputs": [],
   "source": [
    "import requests\n",
    "from bs4 import BeautifulSoup\n",
    "import pandas as pd\n",
    "\n",
    "from selenium import webdriver\n",
    "from time import sleep"
   ]
  },
  {
   "cell_type": "code",
   "execution_count": 11,
   "metadata": {},
   "outputs": [],
   "source": [
    "navegador = webdriver.Chrome()\n",
    "\n",
    "navegador.get('https://ragnatales.com.br/db/items/4206')\n",
    "sleep(3)"
   ]
  },
  {
   "cell_type": "code",
   "execution_count": null,
   "metadata": {},
   "outputs": [],
   "source": [
    "navegador.find_elements()"
   ]
  },
  {
   "cell_type": "code",
   "execution_count": 9,
   "metadata": {},
   "outputs": [
    {
     "ename": "AttributeError",
     "evalue": "'WebDriver' object has no attribute 'find_element_by_tag_name'",
     "output_type": "error",
     "traceback": [
      "\u001b[1;31m---------------------------------------------------------------------------\u001b[0m",
      "\u001b[1;31mAttributeError\u001b[0m                            Traceback (most recent call last)",
      "Cell \u001b[1;32mIn[9], line 7\u001b[0m\n\u001b[0;32m      3\u001b[0m navegador\u001b[39m.\u001b[39mget(\u001b[39m'\u001b[39m\u001b[39mhttps://www.walissonsilva.com/blog\u001b[39m\u001b[39m'\u001b[39m)\n\u001b[0;32m      5\u001b[0m sleep(\u001b[39m3\u001b[39m)\n\u001b[1;32m----> 7\u001b[0m elemento \u001b[39m=\u001b[39m navegador\u001b[39m.\u001b[39;49mfind_element_by_tag_name(\u001b[39m'\u001b[39m\u001b[39minput\u001b[39m\u001b[39m'\u001b[39m)\n\u001b[0;32m      9\u001b[0m elemento\u001b[39m.\u001b[39msend_keys(\u001b[39m'\u001b[39m\u001b[39mdata\u001b[39m\u001b[39m'\u001b[39m)\n",
      "\u001b[1;31mAttributeError\u001b[0m: 'WebDriver' object has no attribute 'find_element_by_tag_name'"
     ]
    }
   ],
   "source": [
    "import requests\n",
    "from bs4 import BeautifulSoup\n",
    "from selenium import webdriver\n",
    "from selenium.webdriver.chrome.options import Options\n",
    "from time import sleep\n",
    "\n",
    "options = Options()\n",
    "# options.add_argument('--headless')\n",
    "options.add_argument('window-size=400,800')\n",
    "\n",
    "navegador = webdriver.Chrome(options=options)\n",
    "\n",
    "navegador.get('https://www.airbnb.com')\n",
    "\n",
    "sleep(2)\n",
    "\n",
    "input_place = navegador.find_element_by_tag_name('input')\n",
    "input_place.send_keys('São Paulo')\n",
    "input_place.submit()\n",
    "\n",
    "sleep(0.5)\n",
    "\n",
    "button_stay = navegador.find_element_by_css_selector('button > img')\n",
    "button_stay.click()\n",
    "\n",
    "sleep(0.5)\n",
    "\n",
    "nextButton = navegador.find_elements_by_tag_name('button')[-1]\n",
    "nextButton.click()\n",
    "\n",
    "sleep(0.5)\n",
    "\n",
    "# Definindo dois adultos\n",
    "adultButton = navegador.find_elements_by_css_selector('button > span > svg > path[d=\"m2 16h28m-14-14v28\"]')[0]\n",
    "adultButton.click()\n",
    "sleep(1)\n",
    "adultButton.click()\n",
    "sleep(1)\n",
    "\n",
    "\n",
    "searchButton = navegador.find_elements_by_tag_name('button')[-1]\n",
    "searchButton.click()\n",
    "\n",
    "sleep(4)\n",
    "\n",
    "page_content = navegador.page_source\n",
    "\n",
    "site = BeautifulSoup(page_content, 'html.parser')\n",
    "\n",
    "print(site.prettify())"
   ]
  },
  {
   "cell_type": "code",
   "execution_count": 5,
   "metadata": {},
   "outputs": [],
   "source": [
    "response = requests.get('https://ragnatales.com.br/db/items/4206')\n",
    "\n",
    "content = response.content\n",
    "\n",
    "site = BeautifulSoup(content, 'html.parser') #conteúdo html da página"
   ]
  },
  {
   "cell_type": "code",
   "execution_count": 6,
   "metadata": {},
   "outputs": [
    {
     "name": "stdout",
     "output_type": "stream",
     "text": [
      "<!DOCTYPE html>\n",
      "<html lang=\"pt-br\" translate=\"no\">\n",
      " <head>\n",
      "  <meta charset=\"utf-8\"/>\n",
      "  <link href=\"/assets/favicon.08d9becb.ico\" rel=\"icon\"/>\n",
      "  <meta content=\"IE=edge\" http-equiv=\"X-UA-Compatible\"/>\n",
      "  <meta content=\"width=device-width, initial-scale=1.0\" name=\"viewport\"/>\n",
      "  <meta content=\"https://ragnatales.com.br/logosocial.webp\" property=\"og:image\"/>\n",
      "  <meta content=\"image/webp\" property=\"og:image:type\"/>\n",
      "  <meta content=\"150\" property=\"og:image:width\"/>\n",
      "  <meta content=\"150\" property=\"og:image:height\"/>\n",
      "  <meta content=\"RagnaTales - Sua aventura começa aqui.\" property=\"og:title\"/>\n",
      "  <meta content=\"RagnaTales\" property=\"og:site_name\"/>\n",
      "  <meta content=\"https://ragnatales.com.br\" property=\"og:url\"/>\n",
      "  <meta content=\"O RagnaTales é uma aventura como você nunca viu antes! Venha se divertir e criar sua própria historia.\" property=\"og:description\"/>\n",
      "  <meta content=\"website\" property=\"og:type\"/>\n",
      "  <meta content=\"RagnaTales\" name=\"title\"/>\n",
      "  <meta content=\"O RagnaTales é uma aventura como você nunca viu antes! Venha se divertir e criar sua própria historia.\" name=\"description\"/>\n",
      "  <meta content=\"RagnaTales, Servidor RagnaTales\" name=\"keywords\"/>\n",
      "  <meta content=\"index, follow\" name=\"robots\"/>\n",
      "  <meta content=\"text/html; charset=utf-8\" http-equiv=\"Content-Type\"/>\n",
      "  <meta content=\"Portuguese\" name=\"language\"/>\n",
      "  <meta content=\"2 days\" name=\"revisit-after\"/>\n",
      "  <meta content=\"Equipe RagnaTales\" name=\"author\"/>\n",
      "  <meta content=\"RagnaTales\" property=\"og:site_name\"/>\n",
      "  <meta content=\"O RagnaTales é uma aventura como você nunca viu antes! Venha se divertir e criar sua própria historia.\" name=\"twitter:image:alt\"/>\n",
      "  <link href=\"https://fonts.googleapis.com/css?family=Montserrat:400,700&amp;display=swap\" rel=\"stylesheet\"/>\n",
      "  <meta content=\"width=device-width, initial-scale=1.0\" name=\"viewport\"/>\n",
      "  <title>\n",
      "   RagnaTales - Escreva sua História\n",
      "  </title>\n",
      "  <script crossorigin=\"\" src=\"/assets/index.92543712.js\" type=\"module\">\n",
      "  </script>\n",
      "  <link href=\"/assets/index.5483bcbf.css\" rel=\"stylesheet\"/>\n",
      " </head>\n",
      " <body>\n",
      "  <div id=\"app\">\n",
      "  </div>\n",
      "  <script crossorigin=\"anonymous\" data-cf-beacon='{\"rayId\":\"7fce39bb5a44a4e3\",\"version\":\"2023.8.0\",\"r\":1,\"b\":1,\"token\":\"4dc0ef1f745547ec94feed67b8f39f85\",\"si\":100}' defer=\"\" integrity=\"sha512-bjgnUKX4azu3dLTVtie9u6TKqgx29RBwfj3QXYt5EKfWM/9hPSAI/4qcV5NACjwAo8UtTeWefx6Zq5PHcMm7Tg==\" src=\"https://static.cloudflareinsights.com/beacon.min.js/v8b253dfea2ab4077af8c6f58422dfbfd1689876627854\">\n",
      "  </script>\n",
      " </body>\n",
      "</html>\n",
      "\n"
     ]
    }
   ],
   "source": [
    "print(site.prettify()) #imprime o site no formato html identado)"
   ]
  },
  {
   "cell_type": "code",
   "execution_count": null,
   "metadata": {},
   "outputs": [],
   "source": []
  }
 ],
 "metadata": {
  "kernelspec": {
   "display_name": "webscra",
   "language": "python",
   "name": "python3"
  },
  "language_info": {
   "codemirror_mode": {
    "name": "ipython",
    "version": 3
   },
   "file_extension": ".py",
   "mimetype": "text/x-python",
   "name": "python",
   "nbconvert_exporter": "python",
   "pygments_lexer": "ipython3",
   "version": "3.11.5"
  },
  "orig_nbformat": 4
 },
 "nbformat": 4,
 "nbformat_minor": 2
}
