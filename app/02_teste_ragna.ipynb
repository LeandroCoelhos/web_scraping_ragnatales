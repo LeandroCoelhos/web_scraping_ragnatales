{
 "cells": [
  {
   "cell_type": "markdown",
   "metadata": {},
   "source": [
    "https://www.youtube.com/watch?v=42sTntMEn6o&list=PLg3ZPsW_sghSkRacynznQeEs-vminyTQk&index=2"
   ]
  },
  {
   "cell_type": "code",
   "execution_count": 1,
   "metadata": {},
   "outputs": [],
   "source": [
    "import requests\n",
    "from bs4 import BeautifulSoup\n",
    "import pandas as pd"
   ]
  },
  {
   "cell_type": "code",
   "execution_count": 2,
   "metadata": {},
   "outputs": [],
   "source": [
    "pd.set_option(\"display.max_rows\", 50)"
   ]
  },
  {
   "cell_type": "code",
   "execution_count": 5,
   "metadata": {},
   "outputs": [],
   "source": [
    "response = requests.get('https://ragnatales.com.br/db/items/4206')\n",
    "\n",
    "content = response.content\n",
    "\n",
    "site = BeautifulSoup(content, 'html.parser') #conteúdo html da página"
   ]
  },
  {
   "cell_type": "code",
   "execution_count": 6,
   "metadata": {},
   "outputs": [
    {
     "name": "stdout",
     "output_type": "stream",
     "text": [
      "<!DOCTYPE html>\n",
      "<html lang=\"pt-br\" translate=\"no\">\n",
      " <head>\n",
      "  <meta charset=\"utf-8\"/>\n",
      "  <link href=\"/assets/favicon.08d9becb.ico\" rel=\"icon\"/>\n",
      "  <meta content=\"IE=edge\" http-equiv=\"X-UA-Compatible\"/>\n",
      "  <meta content=\"width=device-width, initial-scale=1.0\" name=\"viewport\"/>\n",
      "  <meta content=\"https://ragnatales.com.br/logosocial.webp\" property=\"og:image\"/>\n",
      "  <meta content=\"image/webp\" property=\"og:image:type\"/>\n",
      "  <meta content=\"150\" property=\"og:image:width\"/>\n",
      "  <meta content=\"150\" property=\"og:image:height\"/>\n",
      "  <meta content=\"RagnaTales - Sua aventura começa aqui.\" property=\"og:title\"/>\n",
      "  <meta content=\"RagnaTales\" property=\"og:site_name\"/>\n",
      "  <meta content=\"https://ragnatales.com.br\" property=\"og:url\"/>\n",
      "  <meta content=\"O RagnaTales é uma aventura como você nunca viu antes! Venha se divertir e criar sua própria historia.\" property=\"og:description\"/>\n",
      "  <meta content=\"website\" property=\"og:type\"/>\n",
      "  <meta content=\"RagnaTales\" name=\"title\"/>\n",
      "  <meta content=\"O RagnaTales é uma aventura como você nunca viu antes! Venha se divertir e criar sua própria historia.\" name=\"description\"/>\n",
      "  <meta content=\"RagnaTales, Servidor RagnaTales\" name=\"keywords\"/>\n",
      "  <meta content=\"index, follow\" name=\"robots\"/>\n",
      "  <meta content=\"text/html; charset=utf-8\" http-equiv=\"Content-Type\"/>\n",
      "  <meta content=\"Portuguese\" name=\"language\"/>\n",
      "  <meta content=\"2 days\" name=\"revisit-after\"/>\n",
      "  <meta content=\"Equipe RagnaTales\" name=\"author\"/>\n",
      "  <meta content=\"RagnaTales\" property=\"og:site_name\"/>\n",
      "  <meta content=\"O RagnaTales é uma aventura como você nunca viu antes! Venha se divertir e criar sua própria historia.\" name=\"twitter:image:alt\"/>\n",
      "  <link href=\"https://fonts.googleapis.com/css?family=Montserrat:400,700&amp;display=swap\" rel=\"stylesheet\"/>\n",
      "  <meta content=\"width=device-width, initial-scale=1.0\" name=\"viewport\"/>\n",
      "  <title>\n",
      "   RagnaTales - Escreva sua História\n",
      "  </title>\n",
      "  <script crossorigin=\"\" src=\"/assets/index.92543712.js\" type=\"module\">\n",
      "  </script>\n",
      "  <link href=\"/assets/index.5483bcbf.css\" rel=\"stylesheet\"/>\n",
      " </head>\n",
      " <body>\n",
      "  <div id=\"app\">\n",
      "  </div>\n",
      "  <script crossorigin=\"anonymous\" data-cf-beacon='{\"rayId\":\"7fb7e0e58df31ac0\",\"version\":\"2023.8.0\",\"r\":1,\"b\":1,\"token\":\"4dc0ef1f745547ec94feed67b8f39f85\",\"si\":100}' defer=\"\" integrity=\"sha512-bjgnUKX4azu3dLTVtie9u6TKqgx29RBwfj3QXYt5EKfWM/9hPSAI/4qcV5NACjwAo8UtTeWefx6Zq5PHcMm7Tg==\" src=\"https://static.cloudflareinsights.com/beacon.min.js/v8b253dfea2ab4077af8c6f58422dfbfd1689876627854\">\n",
      "  </script>\n",
      " </body>\n",
      "</html>\n",
      "\n"
     ]
    }
   ],
   "source": [
    "print(site.prettify()) #imprime o site no formato html identado)"
   ]
  },
  {
   "cell_type": "code",
   "execution_count": null,
   "metadata": {},
   "outputs": [],
   "source": []
  }
 ],
 "metadata": {
  "kernelspec": {
   "display_name": "webscra",
   "language": "python",
   "name": "python3"
  },
  "language_info": {
   "codemirror_mode": {
    "name": "ipython",
    "version": 3
   },
   "file_extension": ".py",
   "mimetype": "text/x-python",
   "name": "python",
   "nbconvert_exporter": "python",
   "pygments_lexer": "ipython3",
   "version": "3.11.4"
  },
  "orig_nbformat": 4
 },
 "nbformat": 4,
 "nbformat_minor": 2
}
